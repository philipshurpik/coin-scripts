{
 "cells": [
  {
   "cell_type": "code",
   "execution_count": 2,
   "metadata": {},
   "outputs": [],
   "source": [
    "import os\n",
    "import csv\n",
    "import pytz\n",
    "from datetime import datetime\n",
    "\n",
    "from catalyst.api import record, symbol, symbols\n",
    "from catalyst.utils.run_algo import run_algorithm"
   ]
  },
  {
   "cell_type": "code",
   "execution_count": 15,
   "metadata": {},
   "outputs": [
    {
     "name": "stderr",
     "output_type": "stream",
     "text": [
      "[2018-04-12 04:23:49.320916] WARNING: run_algo: Catalyst is currently in ALPHA. It is going through rapid development and it is subject to errors. Please use carefully. We encourage you to report any issue on GitHub: https://github.com/enigmampc/catalyst/issues\n",
      "[2018-04-12 04:23:49.321604] INFO: run_algo: Catalyst version 0.5.8\n",
      "[2018-04-12 04:23:52.327389] INFO: run_algo: running algo in backtest mode\n",
      "[2018-04-12 04:23:52.331871] INFO: exchange_algorithm: initialized trading algorithm in backtest mode\n",
      "[2018-04-12 05:24:43.547649] INFO: Performance: Simulated 621 trading days out of 621.\n",
      "[2018-04-12 05:24:43.558448] INFO: Performance: first open: 2016-07-30 00:00:00+00:00\n",
      "[2018-04-12 05:24:43.559863] INFO: Performance: last close: 2018-04-11 23:59:00+00:00\n"
     ]
    }
   ],
   "source": [
    "def initialize(context):\n",
    "    file_path = os.path.join(os.getcwd(), '..', 'data', 'BTCUSDT1_polo.csv')\n",
    "    context.asset     = symbol('btc_usdt')\n",
    "    context.csvfile   = open(file_path, 'w+')\n",
    "    context.csvwriter = csv.writer(context.csvfile)\n",
    "\n",
    "\n",
    "def handle_data(context, data):\n",
    "    date   = context.blotter.current_dt     # current time in each iteration\n",
    "    price_open  = data.current(context.asset, 'open')\n",
    "    price_high  = data.current(context.asset, 'high')\n",
    "    price_low  = data.current(context.asset, 'low')\n",
    "    price_close  = data.current(context.asset, 'close')\n",
    "    volume = data.current(context.asset, 'volume')\n",
    "    # Writes one line to CSV on each iteration with the chosen variables\n",
    "    context.csvwriter.writerow([date, price_open, price_high, price_low, price_close, volume])\n",
    "\n",
    "\n",
    "def analyze(context=None, results=None):\n",
    "    context.csvfile.close()\n",
    "\n",
    "\n",
    "# Bitcoin data is available from 2015-3-2. Dates vary for other tokens.\n",
    "start = datetime(2016, 7, 30, 0, 0, 0, 0, pytz.utc)\n",
    "end = datetime(2018, 4, 11, 0, 0, 0, 0, pytz.utc)\n",
    "results = run_algorithm(initialize=initialize,\n",
    "                        handle_data=handle_data,\n",
    "                        analyze=analyze,\n",
    "                        start=start,\n",
    "                        end=end,\n",
    "                        exchange_name='poloniex',\n",
    "                        data_frequency='minute',\n",
    "                        base_currency ='usdt',\n",
    "                        capital_base=10000 )"
   ]
  },
  {
   "cell_type": "code",
   "execution_count": 7,
   "metadata": {},
   "outputs": [
    {
     "data": {
      "text/plain": [
       "'/Users/philips/Projects/deep-trading/coin-scripts/notebooks/../data/BTCUSD1.csv'"
      ]
     },
     "execution_count": 7,
     "metadata": {},
     "output_type": "execute_result"
    }
   ],
   "source": []
  },
  {
   "cell_type": "code",
   "execution_count": null,
   "metadata": {},
   "outputs": [],
   "source": []
  }
 ],
 "metadata": {
  "kernelspec": {
   "display_name": "Python 3",
   "language": "python",
   "name": "python3"
  },
  "language_info": {
   "codemirror_mode": {
    "name": "ipython",
    "version": 3
   },
   "file_extension": ".py",
   "mimetype": "text/x-python",
   "name": "python",
   "nbconvert_exporter": "python",
   "pygments_lexer": "ipython3",
   "version": "3.6.4"
  }
 },
 "nbformat": 4,
 "nbformat_minor": 2
}
