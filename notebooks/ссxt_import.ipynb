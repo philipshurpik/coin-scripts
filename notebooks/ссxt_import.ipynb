{
 "cells": [
  {
   "cell_type": "code",
   "execution_count": 11,
   "metadata": {},
   "outputs": [],
   "source": [
    "import ccxt\n",
    "import datetime\n",
    "import time\n",
    "import math\n",
    "import os\n",
    "import pandas as pd\n",
    "\n",
    "SYMBOL = 'BTC/USD'\n",
    "TIMEFRAME = '1m'\n",
    "EXCHANGE_NAME = 'bitfinex'\n",
    "START_DATE = '2016-07-01 00:00:00'\n",
    "END_DATE = '2016-08-11 23:59:00'\n",
    "filename = '{}-{}-{}.csv'.format(EXCHANGE_NAME, SYMBOL.replace(\"/\", \"\"), TIMEFRAME)\n",
    "filepath = os.path.join(os.getcwd(), '..', 'data', filename)\n",
    "\n",
    "def to_unix_time(timestamp):\n",
    "    epoch = datetime.datetime.utcfromtimestamp(0)  # start of epoch time\n",
    "    my_time = datetime.datetime.strptime(timestamp, \"%Y-%m-%d %H:%M:%S\")  # plugin your time object\n",
    "    delta = my_time - epoch\n",
    "    return delta.total_seconds() * 1000"
   ]
  },
  {
   "cell_type": "code",
   "execution_count": 5,
   "metadata": {},
   "outputs": [
    {
     "name": "stdout",
     "output_type": "stream",
     "text": [
      "Loading:  2016-07-01 17:49:00\n",
      "Loading:  2016-07-02 13:23:00\n",
      "Loading:  2016-07-03 07:39:00\n",
      "Loading:  2016-07-04 01:33:00\n",
      "Loading:  2016-07-04 19:52:00\n",
      "Loading:  2016-07-05 14:14:00\n",
      "Loading:  2016-07-06 08:02:00\n",
      "Loading:  2016-07-07 03:02:00\n",
      "Loading:  2016-07-07 20:05:00\n",
      "Loading:  2016-07-08 14:00:00\n",
      "Loading:  2016-07-09 07:18:00\n",
      "Loading:  2016-07-10 00:50:00\n",
      "Loading:  2016-07-10 21:13:00\n",
      "Loading:  2016-07-11 17:29:00\n",
      "Loading:  2016-07-12 13:28:00\n",
      "Loading:  2016-07-13 08:43:00\n",
      "Loading:  2016-07-14 03:39:00\n",
      "Loading:  2016-07-14 22:58:00\n",
      "Loading:  2016-07-15 19:37:00\n",
      "Loading:  2016-07-16 18:35:00\n",
      "Loading:  2016-07-17 17:21:00\n",
      "Loading:  2016-07-18 14:20:00\n",
      "Loading:  2016-07-19 11:50:00\n",
      "Loading:  2016-07-20 09:26:00\n",
      "Loading:  2016-07-21 04:08:00\n",
      "Loading:  2016-07-22 03:02:00\n",
      "Loading:  2016-07-22 21:59:00\n",
      "Loading:  2016-07-23 20:19:00\n",
      "Loading:  2016-07-24 17:02:00\n",
      "Loading:  2016-07-25 14:37:00\n",
      "Loading:  2016-07-26 12:41:00\n",
      "Loading:  2016-07-27 11:12:00\n",
      "Loading:  2016-07-28 06:49:00\n",
      "Loading:  2016-07-29 00:51:00\n",
      "Loading:  2016-07-29 19:57:00\n",
      "Loading:  2016-07-30 20:43:00\n",
      "Loading:  2016-07-31 17:05:00\n",
      "Loading:  2016-08-01 11:16:00\n",
      "Loading:  2016-08-02 05:02:00\n",
      "Loading:  2016-08-10 20:05:00\n",
      "Loading:  2016-08-11 16:14:00\n",
      "Loading:  2016-08-12 17:05:00\n"
     ]
    }
   ],
   "source": [
    "exchange = getattr(ccxt, EXCHANGE_NAME)()\n",
    "exchange.load_markets()\n",
    "current_date = int(to_unix_time(START_DATE))\n",
    "end_date = int(to_unix_time(END_DATE))\n",
    "\n",
    "all_data = []\n",
    "\n",
    "while current_date <= end_date:\n",
    "    print(\"Loading: \", pd.to_datetime(current_date,unit='ms'))\n",
    "    step_data = exchange.fetch_ohlcv(SYMBOL, TIMEFRAME, since=current_date, limit=1000)\n",
    "    all_data = all_data + step_data\n",
    "    time.sleep(3)\n",
    "    current_date = all_data[-1][0] + all_data[-1][0] - all_data[-2][0]\n",
    "    "
   ]
  },
  {
   "cell_type": "code",
   "execution_count": 7,
   "metadata": {},
   "outputs": [],
   "source": [
    "header = ['DateTime', 'Open', 'High', 'Low', 'Close', 'Volume']\n",
    "df = pd.DataFrame(all_data, columns=header)\n",
    "df['DateTime'] = pd.to_datetime(df['DateTime'], unit='ms')"
   ]
  },
  {
   "cell_type": "code",
   "execution_count": 12,
   "metadata": {},
   "outputs": [],
   "source": [
    "df.to_csv(filepath, index=False,header=True, sep=',')"
   ]
  },
  {
   "cell_type": "code",
   "execution_count": null,
   "metadata": {},
   "outputs": [],
   "source": []
  }
 ],
 "metadata": {
  "kernelspec": {
   "display_name": "Python 3",
   "language": "python",
   "name": "python3"
  },
  "language_info": {
   "codemirror_mode": {
    "name": "ipython",
    "version": 3
   },
   "file_extension": ".py",
   "mimetype": "text/x-python",
   "name": "python",
   "nbconvert_exporter": "python",
   "pygments_lexer": "ipython3",
   "version": "3.6.4"
  }
 },
 "nbformat": 4,
 "nbformat_minor": 2
}
