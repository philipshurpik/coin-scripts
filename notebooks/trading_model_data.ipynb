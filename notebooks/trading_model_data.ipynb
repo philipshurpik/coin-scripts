{
 "cells": [
  {
   "cell_type": "code",
   "execution_count": 1,
   "metadata": {},
   "outputs": [],
   "source": [
    "import pandas as pd\n",
    "import numpy as np"
   ]
  },
  {
   "cell_type": "code",
   "execution_count": 2,
   "metadata": {},
   "outputs": [],
   "source": [
    "np.set_printoptions(suppress=True)\n",
    "TIME_COLUMN_INDEX = 0\n",
    "OPEN_COLUMN_INDEX = 1\n",
    "CLOSE_COLUMN_INDEX = 4\n",
    "VOLUME_COLUMN_INDEX = 5\n",
    "window_size = 180\n",
    "look_ahead = 5\n",
    "train_split = 0.85"
   ]
  },
  {
   "cell_type": "code",
   "execution_count": 3,
   "metadata": {},
   "outputs": [],
   "source": [
    "date_columns=[\"Date\", \"Time\"]\n",
    "df = pd.read_csv(\"data/trading/USDBTC60.csv\", parse_dates=[date_columns])\n",
    "df = df[~np.isnan(df['Close'])].set_index(pd.DatetimeIndex(df[\"Date_Time\"]))"
   ]
  },
  {
   "cell_type": "code",
   "execution_count": 4,
   "metadata": {},
   "outputs": [
    {
     "data": {
      "text/plain": [
       "(14161, 7)"
      ]
     },
     "execution_count": 4,
     "metadata": {},
     "output_type": "execute_result"
    }
   ],
   "source": [
    "df.tail()\n",
    "df.shape"
   ]
  },
  {
   "cell_type": "code",
   "execution_count": 5,
   "metadata": {},
   "outputs": [],
   "source": [
    "def _normalize_column(df_column, normalize, pct_change):\n",
    "    column = df_column.copy()\n",
    "    if pct_change:\n",
    "        column = column.pct_change()\n",
    "    column = column.replace(np.inf, np.nan).fillna(0)\n",
    "    eps = np.finfo(np.float32).eps\n",
    "    column_n = (column - np.array(column.mean())) / np.array(column.std() + eps)\n",
    "    return column if not normalize else column_n\n",
    "\n",
    "def _normalize_state(normalize=True, pct_change=True):\n",
    "    return np.array([\n",
    "        df.index.to_pydatetime(),\n",
    "        _normalize_column(df['Open'], normalize, pct_change).values,\n",
    "        _normalize_column(df['High'], normalize, pct_change).values,\n",
    "        _normalize_column(df['Low'], normalize, pct_change).values,\n",
    "        _normalize_column(df['Close'], normalize, pct_change).values,\n",
    "        _normalize_column(df['Volume'].fillna(0), normalize, pct_change).values,\n",
    "    ]).T"
   ]
  },
  {
   "cell_type": "code",
   "execution_count": 6,
   "metadata": {},
   "outputs": [],
   "source": [
    "state_norm = _normalize_state(True, True)\n",
    "state_raw = _normalize_state(False, False)\n",
    "state = state_raw"
   ]
  },
  {
   "cell_type": "code",
   "execution_count": 7,
   "metadata": {},
   "outputs": [],
   "source": [
    "state_len = state.shape[0]\n",
    "features_number = state.shape[1]\n",
    "train_end_index = int(train_split * state_len)"
   ]
  },
  {
   "cell_type": "code",
   "execution_count": 8,
   "metadata": {},
   "outputs": [
    {
     "name": "stdout",
     "output_type": "stream",
     "text": [
      "Train state:  (12036, 6) test state:  (2125, 6)\n"
     ]
    }
   ],
   "source": [
    "train_state = state[0:train_end_index]\n",
    "test_state = state[train_end_index:]\n",
    "print(\"Train state: \", train_state.shape, \"test state: \", test_state.shape)\n",
    "train_length = train_end_index - window_size - look_ahead + 1\n",
    "test_length = state_len - window_size - train_end_index - look_ahead + 1"
   ]
  },
  {
   "cell_type": "code",
   "execution_count": 9,
   "metadata": {},
   "outputs": [],
   "source": [
    "def _norm_set(X_columns_set):\n",
    "    mean = X_columns_set.mean()\n",
    "    std = X_columns_set.std()\n",
    "    return (X_columns_set - mean) / std, mean, std\n",
    "\n",
    "def normalize_set(X_window_set):\n",
    "    new_set = np.zeros_like(X_window_set)\n",
    "    new_set[TIME_COLUMN_INDEX] = X_window_set[TIME_COLUMN_INDEX, :]\n",
    "    new_set[OPEN_COLUMN_INDEX:CLOSE_COLUMN_INDEX+1], price_mean, price_std = _norm_set(X_window_set[OPEN_COLUMN_INDEX:CLOSE_COLUMN_INDEX+1, :])\n",
    "    new_set[VOLUME_COLUMN_INDEX], _, _ = _norm_set(X_window_set[VOLUME_COLUMN_INDEX, :])\n",
    "    return new_set, price_mean, price_std"
   ]
  },
  {
   "cell_type": "code",
   "execution_count": 10,
   "metadata": {},
   "outputs": [],
   "source": [
    "def get_y_label(close_ahead_diff, window_std):\n",
    "    return int((np.sign(close_ahead_diff) * int(np.abs(close_ahead_diff) - window_std/2 > 0))[0])"
   ]
  },
  {
   "cell_type": "code",
   "execution_count": 11,
   "metadata": {},
   "outputs": [],
   "source": [
    "def get_window_diff(state, close_index, price_mean, price_std):\n",
    "    last_window_close = state[close_index - 1, CLOSE_COLUMN_INDEX] - price_mean\n",
    "    look_ahead_window_close = state[close_index - 1 + look_ahead, CLOSE_COLUMN_INDEX] - price_mean\n",
    "    window_close_diff = look_ahead_window_close - last_window_close\n",
    "    window_close_diff_norm = window_close_diff / price_std\n",
    "    return window_close_diff_norm"
   ]
  },
  {
   "cell_type": "code",
   "execution_count": 12,
   "metadata": {},
   "outputs": [],
   "source": [
    "def get_data(state, length):\n",
    "    X_set = np.zeros((length, features_number, window_size), dtype=state.dtype)\n",
    "    y_set = np.zeros((length, 1))\n",
    "    std_set = np.zeros((length, 1))\n",
    "    cl_diff_set = np.zeros((length, 1))\n",
    "    price_meta_set = np.zeros((length, 2))\n",
    "\n",
    "    for i in range(length):\n",
    "        X_set[i, :, :], price_mean, price_std = normalize_set(state[i:i + window_size,:].T)\n",
    "        cl_diff_set[i] = get_window_diff(state, i + window_size, price_mean, price_std)\n",
    "        std_set[i] = 1  # here we normalise prices above, so std = 1\n",
    "        y_set[i] = get_y_label(cl_diff_set[i], std_set[i])  \n",
    "        price_meta_set[i] = [price_mean, price_std]\n",
    "    return X_set, y_set, std_set, cl_diff_set, price_meta_set"
   ]
  },
  {
   "cell_type": "code",
   "execution_count": 13,
   "metadata": {},
   "outputs": [
    {
     "name": "stdout",
     "output_type": "stream",
     "text": [
      "Train dataset :  (11852, 6, 180) (11852, 1) (11852, 1) (11852, 1) (11852, 2)\n"
     ]
    }
   ],
   "source": [
    "X_train, y_train, std_train, cl_diff_train, price_meta_train = get_data(train_state, train_length)\n",
    "print(\"Train dataset : \", X_train.shape, y_train.shape, std_train.shape, cl_diff_train.shape, price_meta_train.shape)"
   ]
  },
  {
   "cell_type": "code",
   "execution_count": 14,
   "metadata": {},
   "outputs": [
    {
     "name": "stdout",
     "output_type": "stream",
     "text": [
      "Buy:   [0.69765753] 1\n",
      "Hold:  [0.03266786] 0\n",
      "Sell:  [-0.79984143] -1\n"
     ]
    }
   ],
   "source": [
    "print(\"Buy:  \", cl_diff_train[10101], 1);assert(get_y_label(cl_diff_train[10101], std_train[10101]) == 1)\n",
    "print(\"Hold: \", cl_diff_train[11300], 0);assert(get_y_label(cl_diff_train[11300], std_train[11300]) == 0)\n",
    "print(\"Sell: \", cl_diff_train[11425], -1);assert(get_y_label(cl_diff_train[11425], std_train[11425]) == -1)"
   ]
  },
  {
   "cell_type": "code",
   "execution_count": 15,
   "metadata": {},
   "outputs": [
    {
     "data": {
      "text/plain": [
       "<matplotlib.figure.Figure at 0x110e866a0>"
      ]
     },
     "metadata": {},
     "output_type": "display_data"
    }
   ],
   "source": [
    "import matplotlib.pyplot as plt\n",
    "plt.plot(np.abs(cl_diff_train))\n",
    "plt.plot(std_train)\n",
    "plt.show()"
   ]
  },
  {
   "cell_type": "code",
   "execution_count": 16,
   "metadata": {},
   "outputs": [
    {
     "data": {
      "text/plain": [
       "(1546, 9118, 1188)"
      ]
     },
     "execution_count": 16,
     "metadata": {},
     "output_type": "execute_result"
    }
   ],
   "source": [
    "len(y_train[y_train > 0]), len(y_train[y_train == 0]), len(y_train[y_train < 0])"
   ]
  },
  {
   "cell_type": "code",
   "execution_count": 17,
   "metadata": {},
   "outputs": [
    {
     "name": "stdout",
     "output_type": "stream",
     "text": [
      "Test dataset :   (1941, 6, 180)  (1941, 1)  (1941, 1)  (1941, 1)  (1941, 2)\n"
     ]
    }
   ],
   "source": [
    "X_test, y_test, std_test, cl_diff_test, price_meta_test = get_data(test_state, test_length)\n",
    "print(\"Test dataset :  \", X_test.shape, \"\", y_test.shape, \"\", std_test.shape, \"\", cl_diff_test.shape, \"\", price_meta_test.shape)"
   ]
  },
  {
   "cell_type": "code",
   "execution_count": 18,
   "metadata": {},
   "outputs": [
    {
     "data": {
      "image/png": "[encoded data removed]",
      "text/plain": [
       "<matplotlib.figure.Figure at 0x127438860>"
      ]
     },
     "metadata": {},
     "output_type": "display_data"
    }
   ],
   "source": [
    "import matplotlib.pyplot as plt\n",
    "plt.plot(np.abs(cl_diff_test))\n",
    "plt.plot(std_test)\n",
    "plt.show()"
   ]
  },
  {
   "cell_type": "code",
   "execution_count": 19,
   "metadata": {},
   "outputs": [
    {
     "data": {
      "text/plain": [
       "(247, 1471, 223)"
      ]
     },
     "execution_count": 19,
     "metadata": {},
     "output_type": "execute_result"
    }
   ],
   "source": [
    "len(y_test[y_test > 0]), len(y_test[y_test == 0]), len(y_test[y_test < 0])"
   ]
  },
  {
   "cell_type": "code",
   "execution_count": 20,
   "metadata": {},
   "outputs": [],
   "source": [
    "from utils.renderer import render\n",
    "\n",
    "def render_for_index(X_set, y_set, meta_set, index, denormalize=False):\n",
    "    values = X_set[index + look_ahead].copy()\n",
    "    if denormalize:\n",
    "        values[OPEN_COLUMN_INDEX:CLOSE_COLUMN_INDEX+1] *= price_meta_train[index + look_ahead][1]\n",
    "        values[OPEN_COLUMN_INDEX:CLOSE_COLUMN_INDEX+1] += price_meta_train[index + look_ahead][0]\n",
    "    trades = np.zeros((2, values.shape[1]))\n",
    "    trade_values = np.concatenate((values, trades), axis=0)\n",
    "    print(\"Index: \", index, \" Rendering for index+5:\", index+5, \"Y value:\",  y_set[index])\n",
    "    render(trade_values.T, title=\"X\", scale=1)"
   ]
  },
  {
   "cell_type": "code",
   "execution_count": 21,
   "metadata": {},
   "outputs": [
    {
     "name": "stdout",
     "output_type": "stream",
     "text": [
      "Index:  11402  Rendering for index+5: 11407 Y value: [1.]\n"
     ]
    },
    {
     "data": {
      "image/png": "[encoded data removed]",
      "text/plain": [
       "<matplotlib.figure.Figure at 0x110e86908>"
      ]
     },
     "metadata": {},
     "output_type": "display_data"
    }
   ],
   "source": [
    "render_for_index(X_train, y_train, price_meta_train, index=11402, denormalize=True)"
   ]
  },
  {
   "cell_type": "code",
   "execution_count": 22,
   "metadata": {},
   "outputs": [
    {
     "name": "stdout",
     "output_type": "stream",
     "text": [
      "Train dataset :  (11852, 6, 180) (11852, 1) (11852, 2)\n",
      "Test dataset :  (1941, 6, 180) (1941, 1) (1941, 2)\n",
      "Train dataset metrics :  1.8462631966163924e-16 0.9999999999999701\n",
      "Test dataset :  -6.963350396735732e-16 1.0000000000000109\n",
      "Nb classes :  3\n"
     ]
    }
   ],
   "source": [
    "print(\"Train dataset : \", X_train.shape, y_train.shape, price_meta_train.shape)\n",
    "print(\"Test dataset : \", X_test.shape, y_test.shape, price_meta_test.shape)\n",
    "print(\"Train dataset metrics : \", X_train[:, 1:].mean(), X_train[:, 1:].std())\n",
    "print(\"Test dataset : \", X_test[:, 1:].mean(), X_test[:, 1:].std())\n",
    "print(\"Nb classes : \", len(np.unique(y_train)))"
   ]
  },
  {
   "cell_type": "code",
   "execution_count": 23,
   "metadata": {},
   "outputs": [],
   "source": [
    "FOLDER = \"data/trading/\"\n",
    "np.save(FOLDER + 'X_train.npy', X_train)\n",
    "np.save(FOLDER + 'y_train.npy', y_train)\n",
    "np.save(FOLDER + 'price_meta_train.npy', price_meta_train)\n",
    "np.save(FOLDER + 'X_test.npy', X_test)\n",
    "np.save(FOLDER + 'y_test.npy', y_test)\n",
    "np.save(FOLDER + 'price_meta_test.npy', price_meta_test)"
   ]
  },
  {
   "cell_type": "code",
   "execution_count": null,
   "metadata": {},
   "outputs": [],
   "source": []
  }
 ],
 "metadata": {
  "kernelspec": {
   "display_name": "Python 3",
   "language": "python",
   "name": "python3"
  },
  "language_info": {
   "codemirror_mode": {
    "name": "ipython",
    "version": 3
   },
   "file_extension": ".py",
   "mimetype": "text/x-python",
   "name": "python",
   "nbconvert_exporter": "python",
   "pygments_lexer": "ipython3",
   "version": "3.6.4"
  }
 },
 "nbformat": 4,
 "nbformat_minor": 2
}
