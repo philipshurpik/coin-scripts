{
 "cells": [
  {
   "cell_type": "code",
   "execution_count": null,
   "metadata": {},
   "outputs": [],
   "source": [
    "import pandas as pd\n",
    "import numpy as np\n",
    "import matplotlib.pyplot as plt\n",
    "from scipy.signal import savgol_filter\n",
    "import sys \n",
    "sys.path.append('..')\n",
    "from renderer import render"
   ]
  },
  {
   "cell_type": "code",
   "execution_count": null,
   "metadata": {},
   "outputs": [],
   "source": [
    "np.set_printoptions(suppress=True)\n",
    "TIME_COLUMN_INDEX = 0\n",
    "OPEN_COLUMN_INDEX = 1\n",
    "CLOSE_COLUMN_INDEX = 4\n",
    "VOLUME_COLUMN_INDEX = 5\n",
    "EPISODE_SIZE = 2880\n",
    "LOOK_AHEAD = 15\n",
    "TRAIN_SPLIT = 0.85"
   ]
  },
  {
   "cell_type": "code",
   "execution_count": null,
   "metadata": {},
   "outputs": [],
   "source": [
    "def read_data(filename=\"../data/bitfinex-BTCUSD-1m.csv\", date_columns=\"DateTime\"):\n",
    "    df = pd.read_csv(filename, parse_dates=[date_columns])\n",
    "    df = df[~np.isnan(df['Close'])].set_index(pd.DatetimeIndex(df[date_columns]))\n",
    "    df['Volume'] = ((df['Volume'] - df['Volume'].mean())/df['Volume'].std())\n",
    "    return df\n",
    "\n",
    "def normalize_episode(df_episode):\n",
    "    df_episode_norm = df_episode.copy()\n",
    "    df_episode_norm['Open']  = df_episode_norm['Open'] / df_episode.iloc[0]['Open']\n",
    "    df_episode_norm['High']  = df_episode_norm['High'] / df_episode.iloc[0]['Open']\n",
    "    df_episode_norm['Low']   = df_episode_norm['Low']  / df_episode.iloc[0]['Open']\n",
    "    df_episode_norm['Close'] = df_episode_norm['Close']/df_episode.iloc[0]['Open']\n",
    "    return df_episode_norm\n",
    "\n",
    "def get_train_test_sets(df, train_split):\n",
    "    state_len = df.shape[0]\n",
    "    train_end_index = int(train_split * state_len)\n",
    "    train_state = df[0:train_end_index]\n",
    "    test_state = df[train_end_index:]\n",
    "    print(\"Train state: \", train_state.shape, \"test state: \", test_state.shape, \"total:\", state_len)\n",
    "    return train_state, test_state\n",
    "\n",
    "def get_state_episode_count(state, episode_size, look_ahead):\n",
    "    return state.shape[0] - episode_size - look_ahead + 1\n",
    "\n",
    "def get_features_number(df):\n",
    "    return df.shape[1] - 1\n",
    "\n",
    "def get_y_label(episode_data, look_ahead, smooth=True, normalize=True):\n",
    "    regular_close = episode_data['Close']\n",
    "    shifted_close = episode_data.shift(-look_ahead)['Close']\n",
    "    diff = (shifted_close - regular_close).dropna()\n",
    "    if normalize:\n",
    "        diff = diff / diff.std()\n",
    "    if smooth:\n",
    "        diff = savgol_filter(diff, 9, 3)\n",
    "    y_category = ((np.sign(diff) + 1) / 2).astype(int)\n",
    "    return diff, y_category\n",
    "\n",
    "def get_episode_data(state, start_index, episode_size, look_ahead):\n",
    "    episode_state = state[start_index : start_index + episode_size].copy()\n",
    "    X_episode = np.array(normalize_episode(episode_state))[:-look_ahead,:]\n",
    "    Y_diff, Y_category = get_y_label(episode_state, look_ahead)\n",
    "    return X_episode, np.array(Y_diff), np.array(Y_category)"
   ]
  },
  {
   "cell_type": "code",
   "execution_count": null,
   "metadata": {},
   "outputs": [],
   "source": [
    "df = read_data()\n",
    "train_state, test_state = get_train_test_sets(df, TRAIN_SPLIT)\n",
    "features_number = get_features_number(df)\n",
    "train_length = get_state_episode_count(train_state, EPISODE_SIZE, LOOK_AHEAD)\n",
    "test_length = get_state_episode_count(test_state, EPISODE_SIZE, LOOK_AHEAD)\n",
    "train_length, test_length, features_number"
   ]
  },
  {
   "cell_type": "code",
   "execution_count": null,
   "metadata": {},
   "outputs": [],
   "source": [
    "X_episode, Y_diff, Y_category = get_episode_data(train_state, start_index=675000, episode_size=EPISODE_SIZE, look_ahead=LOOK_AHEAD)\n",
    "print(X_episode[0:2], Y_diff[0:2], X_episode.shape, Y_diff.shape)"
   ]
  },
  {
   "cell_type": "code",
   "execution_count": null,
   "metadata": {},
   "outputs": [],
   "source": [
    "def render_X(X_set, start=0, end=500):\n",
    "    values = X_set[start:end].copy().T\n",
    "    trades = np.zeros((2, values.shape[1]))\n",
    "    trade_values = np.concatenate((values, trades), axis=0)\n",
    "    print(trade_values.T.shape)\n",
    "    render(trade_values.T, title=\"X\", scale=1)\n",
    "\n",
    "def render_y(y, start=0, end=500):\n",
    "    plt.rcParams[\"figure.figsize\"] = (20,5)\n",
    "    plt.plot(y[start:end])\n",
    "    plt.show()"
   ]
  },
  {
   "cell_type": "code",
   "execution_count": null,
   "metadata": {},
   "outputs": [],
   "source": [
    "render_y(Y_diff, start=0, end=500)"
   ]
  },
  {
   "cell_type": "code",
   "execution_count": null,
   "metadata": {},
   "outputs": [],
   "source": [
    "render_y(Y_category, start=0, end=500)"
   ]
  },
  {
   "cell_type": "code",
   "execution_count": null,
   "metadata": {},
   "outputs": [],
   "source": [
    "render_X(X_episode, start=0, end=500)"
   ]
  },
  {
   "cell_type": "code",
   "execution_count": null,
   "metadata": {},
   "outputs": [],
   "source": []
  }
 ],
 "metadata": {
  "kernelspec": {
   "display_name": "Python 3",
   "language": "python",
   "name": "python3"
  },
  "language_info": {
   "codemirror_mode": {
    "name": "ipython",
    "version": 3
   },
   "file_extension": ".py",
   "mimetype": "text/x-python",
   "name": "python",
   "nbconvert_exporter": "python",
   "pygments_lexer": "ipython3",
   "version": "3.6.4"
  }
 },
 "nbformat": 4,
 "nbformat_minor": 2
}
